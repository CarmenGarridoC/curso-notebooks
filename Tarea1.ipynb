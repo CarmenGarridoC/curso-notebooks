{
 "cells": [
  {
   "cell_type": "markdown",
   "id": "ba19e055",
   "metadata": {},
   "source": [
    "## Preprocesamiento de datos\n",
    "\n",
    "En este notebook vamos a trabajar algunas operaciones de preprocesamiento básico que forma parte del proceso de Análisis Inteligente de Datos usando Pandas de Python. \n",
    "\n",
    "Repositorio público de este notebook: https://github.com/CarmenGarridoC/curso-notebooks\n",
    "\n",
    "Link en Binder: \n",
    "\n",
    "Vamos a trabajar con la base de datos Iris que se proporciona en formato csv. La base de datos tiene 4 atributos numéricos y un atributo clase."
   ]
  },
  {
   "cell_type": "code",
   "execution_count": 1,
   "id": "7ab25a1b",
   "metadata": {},
   "outputs": [
    {
     "data": {
      "text/html": [
       "<div>\n",
       "<style scoped>\n",
       "    .dataframe tbody tr th:only-of-type {\n",
       "        vertical-align: middle;\n",
       "    }\n",
       "\n",
       "    .dataframe tbody tr th {\n",
       "        vertical-align: top;\n",
       "    }\n",
       "\n",
       "    .dataframe thead th {\n",
       "        text-align: right;\n",
       "    }\n",
       "</style>\n",
       "<table border=\"1\" class=\"dataframe\">\n",
       "  <thead>\n",
       "    <tr style=\"text-align: right;\">\n",
       "      <th></th>\n",
       "      <th>Atr1</th>\n",
       "      <th>Atr2</th>\n",
       "      <th>Atr3</th>\n",
       "      <th>Atr4</th>\n",
       "      <th>Clase</th>\n",
       "    </tr>\n",
       "  </thead>\n",
       "  <tbody>\n",
       "    <tr>\n",
       "      <th>0</th>\n",
       "      <td>5.1</td>\n",
       "      <td>3.5</td>\n",
       "      <td>1.4</td>\n",
       "      <td>0.2</td>\n",
       "      <td>Iris-setosa</td>\n",
       "    </tr>\n",
       "    <tr>\n",
       "      <th>1</th>\n",
       "      <td>4.9</td>\n",
       "      <td>3.0</td>\n",
       "      <td>1.4</td>\n",
       "      <td>0.2</td>\n",
       "      <td>Iris-setosa</td>\n",
       "    </tr>\n",
       "    <tr>\n",
       "      <th>2</th>\n",
       "      <td>4.7</td>\n",
       "      <td>3.2</td>\n",
       "      <td>1.3</td>\n",
       "      <td>0.2</td>\n",
       "      <td>Iris-setosa</td>\n",
       "    </tr>\n",
       "    <tr>\n",
       "      <th>3</th>\n",
       "      <td>4.6</td>\n",
       "      <td>3.1</td>\n",
       "      <td>1.5</td>\n",
       "      <td>0.2</td>\n",
       "      <td>Iris-setosa</td>\n",
       "    </tr>\n",
       "    <tr>\n",
       "      <th>4</th>\n",
       "      <td>5.0</td>\n",
       "      <td>3.6</td>\n",
       "      <td>1.4</td>\n",
       "      <td>0.2</td>\n",
       "      <td>Iris-setosa</td>\n",
       "    </tr>\n",
       "    <tr>\n",
       "      <th>...</th>\n",
       "      <td>...</td>\n",
       "      <td>...</td>\n",
       "      <td>...</td>\n",
       "      <td>...</td>\n",
       "      <td>...</td>\n",
       "    </tr>\n",
       "    <tr>\n",
       "      <th>145</th>\n",
       "      <td>6.7</td>\n",
       "      <td>3.0</td>\n",
       "      <td>5.2</td>\n",
       "      <td>2.3</td>\n",
       "      <td>Iris-virginica</td>\n",
       "    </tr>\n",
       "    <tr>\n",
       "      <th>146</th>\n",
       "      <td>6.3</td>\n",
       "      <td>2.5</td>\n",
       "      <td>5.0</td>\n",
       "      <td>1.9</td>\n",
       "      <td>Iris-virginica</td>\n",
       "    </tr>\n",
       "    <tr>\n",
       "      <th>147</th>\n",
       "      <td>6.5</td>\n",
       "      <td>3.0</td>\n",
       "      <td>5.2</td>\n",
       "      <td>2.0</td>\n",
       "      <td>Iris-virginica</td>\n",
       "    </tr>\n",
       "    <tr>\n",
       "      <th>148</th>\n",
       "      <td>6.2</td>\n",
       "      <td>3.4</td>\n",
       "      <td>5.4</td>\n",
       "      <td>2.3</td>\n",
       "      <td>Iris-virginica</td>\n",
       "    </tr>\n",
       "    <tr>\n",
       "      <th>149</th>\n",
       "      <td>5.9</td>\n",
       "      <td>3.0</td>\n",
       "      <td>5.1</td>\n",
       "      <td>1.8</td>\n",
       "      <td>Iris-virginica</td>\n",
       "    </tr>\n",
       "  </tbody>\n",
       "</table>\n",
       "<p>150 rows × 5 columns</p>\n",
       "</div>"
      ],
      "text/plain": [
       "     Atr1  Atr2  Atr3  Atr4           Clase\n",
       "0     5.1   3.5   1.4   0.2     Iris-setosa\n",
       "1     4.9   3.0   1.4   0.2     Iris-setosa\n",
       "2     4.7   3.2   1.3   0.2     Iris-setosa\n",
       "3     4.6   3.1   1.5   0.2     Iris-setosa\n",
       "4     5.0   3.6   1.4   0.2     Iris-setosa\n",
       "..    ...   ...   ...   ...             ...\n",
       "145   6.7   3.0   5.2   2.3  Iris-virginica\n",
       "146   6.3   2.5   5.0   1.9  Iris-virginica\n",
       "147   6.5   3.0   5.2   2.0  Iris-virginica\n",
       "148   6.2   3.4   5.4   2.3  Iris-virginica\n",
       "149   5.9   3.0   5.1   1.8  Iris-virginica\n",
       "\n",
       "[150 rows x 5 columns]"
      ]
     },
     "execution_count": 1,
     "metadata": {},
     "output_type": "execute_result"
    }
   ],
   "source": [
    "import pandas as pd\n",
    "import numpy as np\n",
    "fichero1 = pd.read_csv(\"iris.csv\",delimiter=',', names=['Atr1','Atr2','Atr3','Atr4','Clase']);\n",
    "fichero1"
   ]
  },
  {
   "cell_type": "markdown",
   "id": "f838cd3e",
   "metadata": {},
   "source": [
    "# Descripción estadística básica de los datos\n",
    "\n",
    "Es interesante conocer valores descriptivos básicos de los datos como la media, mediana, cuartiles, etc."
   ]
  },
  {
   "cell_type": "code",
   "execution_count": 2,
   "id": "53768554",
   "metadata": {},
   "outputs": [
    {
     "data": {
      "text/html": [
       "<div>\n",
       "<style scoped>\n",
       "    .dataframe tbody tr th:only-of-type {\n",
       "        vertical-align: middle;\n",
       "    }\n",
       "\n",
       "    .dataframe tbody tr th {\n",
       "        vertical-align: top;\n",
       "    }\n",
       "\n",
       "    .dataframe thead th {\n",
       "        text-align: right;\n",
       "    }\n",
       "</style>\n",
       "<table border=\"1\" class=\"dataframe\">\n",
       "  <thead>\n",
       "    <tr style=\"text-align: right;\">\n",
       "      <th></th>\n",
       "      <th>Atr1</th>\n",
       "      <th>Atr2</th>\n",
       "      <th>Atr3</th>\n",
       "      <th>Atr4</th>\n",
       "    </tr>\n",
       "  </thead>\n",
       "  <tbody>\n",
       "    <tr>\n",
       "      <th>count</th>\n",
       "      <td>150.000000</td>\n",
       "      <td>150.000000</td>\n",
       "      <td>150.000000</td>\n",
       "      <td>150.000000</td>\n",
       "    </tr>\n",
       "    <tr>\n",
       "      <th>mean</th>\n",
       "      <td>5.843333</td>\n",
       "      <td>3.054000</td>\n",
       "      <td>3.758667</td>\n",
       "      <td>1.198667</td>\n",
       "    </tr>\n",
       "    <tr>\n",
       "      <th>std</th>\n",
       "      <td>0.828066</td>\n",
       "      <td>0.433594</td>\n",
       "      <td>1.764420</td>\n",
       "      <td>0.763161</td>\n",
       "    </tr>\n",
       "    <tr>\n",
       "      <th>min</th>\n",
       "      <td>4.300000</td>\n",
       "      <td>2.000000</td>\n",
       "      <td>1.000000</td>\n",
       "      <td>0.100000</td>\n",
       "    </tr>\n",
       "    <tr>\n",
       "      <th>25%</th>\n",
       "      <td>5.100000</td>\n",
       "      <td>2.800000</td>\n",
       "      <td>1.600000</td>\n",
       "      <td>0.300000</td>\n",
       "    </tr>\n",
       "    <tr>\n",
       "      <th>50%</th>\n",
       "      <td>5.800000</td>\n",
       "      <td>3.000000</td>\n",
       "      <td>4.350000</td>\n",
       "      <td>1.300000</td>\n",
       "    </tr>\n",
       "    <tr>\n",
       "      <th>75%</th>\n",
       "      <td>6.400000</td>\n",
       "      <td>3.300000</td>\n",
       "      <td>5.100000</td>\n",
       "      <td>1.800000</td>\n",
       "    </tr>\n",
       "    <tr>\n",
       "      <th>max</th>\n",
       "      <td>7.900000</td>\n",
       "      <td>4.400000</td>\n",
       "      <td>6.900000</td>\n",
       "      <td>2.500000</td>\n",
       "    </tr>\n",
       "  </tbody>\n",
       "</table>\n",
       "</div>"
      ],
      "text/plain": [
       "             Atr1        Atr2        Atr3        Atr4\n",
       "count  150.000000  150.000000  150.000000  150.000000\n",
       "mean     5.843333    3.054000    3.758667    1.198667\n",
       "std      0.828066    0.433594    1.764420    0.763161\n",
       "min      4.300000    2.000000    1.000000    0.100000\n",
       "25%      5.100000    2.800000    1.600000    0.300000\n",
       "50%      5.800000    3.000000    4.350000    1.300000\n",
       "75%      6.400000    3.300000    5.100000    1.800000\n",
       "max      7.900000    4.400000    6.900000    2.500000"
      ]
     },
     "execution_count": 2,
     "metadata": {},
     "output_type": "execute_result"
    }
   ],
   "source": [
    "fichero1.describe()"
   ]
  },
  {
   "cell_type": "markdown",
   "id": "5e102b9c",
   "metadata": {},
   "source": [
    "# Valores missing\n",
    "\n",
    "Debemos conocer si la base de datos contiene valores missing en algunos de sus atributos ya que esto conlleva realizar un preprocesamiento distinto para imputar dichos valores."
   ]
  },
  {
   "cell_type": "code",
   "execution_count": 3,
   "id": "30782dc1",
   "metadata": {},
   "outputs": [
    {
     "data": {
      "text/plain": [
       "Atr1     0\n",
       "Atr2     0\n",
       "Atr3     0\n",
       "Atr4     0\n",
       "Clase    0\n",
       "dtype: int64"
      ]
     },
     "execution_count": 3,
     "metadata": {},
     "output_type": "execute_result"
    }
   ],
   "source": [
    "#datos missing\n",
    "fichero1.isna().sum()"
   ]
  },
  {
   "cell_type": "markdown",
   "id": "41274094",
   "metadata": {},
   "source": [
    "# Análisis de correlación\n",
    "\n",
    "Otro elemento importante en la etapa de preprocesamiento es hacer un análisis de correlación entre variables numéricas. De esta forma si dos atributos tiene una correlación muy alta significa que no están proporcionando la misma información y podemos eliminar uno de ellos."
   ]
  },
  {
   "cell_type": "code",
   "execution_count": 4,
   "id": "c4957a71",
   "metadata": {
    "scrolled": true
   },
   "outputs": [
    {
     "data": {
      "text/html": [
       "<div>\n",
       "<style scoped>\n",
       "    .dataframe tbody tr th:only-of-type {\n",
       "        vertical-align: middle;\n",
       "    }\n",
       "\n",
       "    .dataframe tbody tr th {\n",
       "        vertical-align: top;\n",
       "    }\n",
       "\n",
       "    .dataframe thead th {\n",
       "        text-align: right;\n",
       "    }\n",
       "</style>\n",
       "<table border=\"1\" class=\"dataframe\">\n",
       "  <thead>\n",
       "    <tr style=\"text-align: right;\">\n",
       "      <th></th>\n",
       "      <th>variable_1</th>\n",
       "      <th>variable_2</th>\n",
       "      <th>r</th>\n",
       "      <th>abs_r</th>\n",
       "    </tr>\n",
       "  </thead>\n",
       "  <tbody>\n",
       "    <tr>\n",
       "      <th>11</th>\n",
       "      <td>Atr3</td>\n",
       "      <td>Atr4</td>\n",
       "      <td>0.936003</td>\n",
       "      <td>0.936003</td>\n",
       "    </tr>\n",
       "    <tr>\n",
       "      <th>14</th>\n",
       "      <td>Atr4</td>\n",
       "      <td>Atr3</td>\n",
       "      <td>0.936003</td>\n",
       "      <td>0.936003</td>\n",
       "    </tr>\n",
       "    <tr>\n",
       "      <th>2</th>\n",
       "      <td>Atr1</td>\n",
       "      <td>Atr3</td>\n",
       "      <td>0.881386</td>\n",
       "      <td>0.881386</td>\n",
       "    </tr>\n",
       "    <tr>\n",
       "      <th>8</th>\n",
       "      <td>Atr3</td>\n",
       "      <td>Atr1</td>\n",
       "      <td>0.881386</td>\n",
       "      <td>0.881386</td>\n",
       "    </tr>\n",
       "    <tr>\n",
       "      <th>3</th>\n",
       "      <td>Atr1</td>\n",
       "      <td>Atr4</td>\n",
       "      <td>0.834421</td>\n",
       "      <td>0.834421</td>\n",
       "    </tr>\n",
       "    <tr>\n",
       "      <th>12</th>\n",
       "      <td>Atr4</td>\n",
       "      <td>Atr1</td>\n",
       "      <td>0.834421</td>\n",
       "      <td>0.834421</td>\n",
       "    </tr>\n",
       "    <tr>\n",
       "      <th>6</th>\n",
       "      <td>Atr2</td>\n",
       "      <td>Atr3</td>\n",
       "      <td>-0.303421</td>\n",
       "      <td>0.303421</td>\n",
       "    </tr>\n",
       "    <tr>\n",
       "      <th>9</th>\n",
       "      <td>Atr3</td>\n",
       "      <td>Atr2</td>\n",
       "      <td>-0.303421</td>\n",
       "      <td>0.303421</td>\n",
       "    </tr>\n",
       "    <tr>\n",
       "      <th>7</th>\n",
       "      <td>Atr2</td>\n",
       "      <td>Atr4</td>\n",
       "      <td>-0.277511</td>\n",
       "      <td>0.277511</td>\n",
       "    </tr>\n",
       "    <tr>\n",
       "      <th>13</th>\n",
       "      <td>Atr4</td>\n",
       "      <td>Atr2</td>\n",
       "      <td>-0.277511</td>\n",
       "      <td>0.277511</td>\n",
       "    </tr>\n",
       "    <tr>\n",
       "      <th>1</th>\n",
       "      <td>Atr1</td>\n",
       "      <td>Atr2</td>\n",
       "      <td>-0.159457</td>\n",
       "      <td>0.159457</td>\n",
       "    </tr>\n",
       "    <tr>\n",
       "      <th>4</th>\n",
       "      <td>Atr2</td>\n",
       "      <td>Atr1</td>\n",
       "      <td>-0.159457</td>\n",
       "      <td>0.159457</td>\n",
       "    </tr>\n",
       "  </tbody>\n",
       "</table>\n",
       "</div>"
      ],
      "text/plain": [
       "   variable_1 variable_2         r     abs_r\n",
       "11       Atr3       Atr4  0.936003  0.936003\n",
       "14       Atr4       Atr3  0.936003  0.936003\n",
       "2        Atr1       Atr3  0.881386  0.881386\n",
       "8        Atr3       Atr1  0.881386  0.881386\n",
       "3        Atr1       Atr4  0.834421  0.834421\n",
       "12       Atr4       Atr1  0.834421  0.834421\n",
       "6        Atr2       Atr3 -0.303421  0.303421\n",
       "9        Atr3       Atr2 -0.303421  0.303421\n",
       "7        Atr2       Atr4 -0.277511  0.277511\n",
       "13       Atr4       Atr2 -0.277511  0.277511\n",
       "1        Atr1       Atr2 -0.159457  0.159457\n",
       "4        Atr2       Atr1 -0.159457  0.159457"
      ]
     },
     "execution_count": 4,
     "metadata": {},
     "output_type": "execute_result"
    }
   ],
   "source": [
    "# Correlación entre columnas numéricas\n",
    "# ==============================================================================\n",
    "\n",
    "def tidy_corr_matrix(corr_mat):\n",
    "    '''\n",
    "    Función para convertir una matrix de correlación de pandas en formato tidy\n",
    "    '''\n",
    "    corr_mat = corr_mat.stack().reset_index()\n",
    "    corr_mat.columns = ['variable_1','variable_2','r']\n",
    "    corr_mat = corr_mat.loc[corr_mat['variable_1'] != corr_mat['variable_2'], :]\n",
    "    corr_mat['abs_r'] = np.abs(corr_mat['r'])\n",
    "    corr_mat = corr_mat.sort_values('abs_r', ascending=False)\n",
    "    \n",
    "    return(corr_mat)\n",
    "\n",
    "\n",
    "\n",
    "corr_matrix = fichero1.select_dtypes(include=['float64', 'int']).corr(method='spearman')\n",
    "tidy_corr_matrix(corr_matrix).head(50)"
   ]
  },
  {
   "cell_type": "markdown",
   "id": "c6e319f9",
   "metadata": {},
   "source": [
    "También podemos crear la matriz de correlaciones que nos da esta información de forma más visual."
   ]
  },
  {
   "cell_type": "code",
   "execution_count": 5,
   "id": "006a2224",
   "metadata": {},
   "outputs": [
    {
     "data": {
      "image/png": "[encoded data removed]",
      "text/plain": [
       "<Figure size 720x720 with 1 Axes>"
      ]
     },
     "metadata": {
      "needs_background": "light"
     },
     "output_type": "display_data"
    }
   ],
   "source": [
    "import matplotlib.pyplot as plt\n",
    "import seaborn as sns\n",
    "# Heatmap matriz de correlaciones\n",
    "# ==============================================================================\n",
    "fig, ax = plt.subplots(nrows=1, ncols=1, figsize=(10, 10))\n",
    "\n",
    "sns.heatmap(\n",
    "    corr_matrix,\n",
    "    annot     = True,\n",
    "    cbar      = False,\n",
    "    annot_kws = {\"size\": 6},\n",
    "    vmin      = -1,\n",
    "    vmax      = 1,\n",
    "    center    = 0,\n",
    "    cmap      = sns.diverging_palette(20, 220, n=200),\n",
    "    square    = True,\n",
    "    ax        = ax\n",
    ")\n",
    "ax.set_xticklabels(\n",
    "    ax.get_xticklabels(),\n",
    "    rotation = 45,\n",
    "    horizontalalignment = 'right',\n",
    ")\n",
    "\n",
    "ax.tick_params(labelsize = 8)\n"
   ]
  },
  {
   "cell_type": "markdown",
   "id": "a18c28dd",
   "metadata": {},
   "source": [
    "De acuerdo a los resultados obtenidos, ¿eliminarías algún atributo?"
   ]
  },
  {
   "cell_type": "markdown",
   "id": "db6aa13e",
   "metadata": {},
   "source": [
    "# Balanceo del atributo clase\n",
    "\n",
    "Podemos obtener información de la distribución del atributo clase lo que nos permite saber si las clases están balanceadas o no."
   ]
  },
  {
   "cell_type": "code",
   "execution_count": 6,
   "id": "647abd46",
   "metadata": {},
   "outputs": [
    {
     "data": {
      "text/plain": [
       "Iris-setosa        50\n",
       "Iris-versicolor    50\n",
       "Iris-virginica     50\n",
       "Name: Clase, dtype: int64"
      ]
     },
     "execution_count": 6,
     "metadata": {},
     "output_type": "execute_result"
    }
   ],
   "source": [
    "fichero1.Clase.value_counts()"
   ]
  },
  {
   "cell_type": "markdown",
   "id": "2af2a244",
   "metadata": {},
   "source": [
    "También podemos obtener esta información mediante un gráfico de barras del atributo clase."
   ]
  },
  {
   "cell_type": "code",
   "execution_count": 11,
   "id": "16e9e14e",
   "metadata": {},
   "outputs": [
    {
     "data": {
      "text/plain": [
       "<AxesSubplot:xlabel='Clase'>"
      ]
     },
     "execution_count": 11,
     "metadata": {},
     "output_type": "execute_result"
    },
    {
     "data": {
      "image/png": "[encoded data removed]",
      "text/plain": [
       "<Figure size 432x288 with 1 Axes>"
      ]
     },
     "metadata": {
      "needs_background": "light"
     },
     "output_type": "display_data"
    }
   ],
   "source": [
    "datosB = pd.DataFrame((fichero1.iloc[:,4]).groupby(fichero1.iloc[:,4]).count())\n",
    "datosB.plot(kind='bar')"
   ]
  },
  {
   "cell_type": "markdown",
   "id": "2d367d54",
   "metadata": {},
   "source": [
    "# Representación gráfica de atributos\n",
    "\n",
    "También es importante analizar los atributos de nuestra base de datos apoyándonos en gráficos que muestran relaciones estre ellos.\n",
    "\n",
    "Veremos cómo realizar un diagrama scatter de dos atributos numéricos \n"
   ]
  },
  {
   "cell_type": "code",
   "execution_count": 7,
   "id": "19c7d2b6",
   "metadata": {},
   "outputs": [
    {
     "data": {
      "image/png": "[encoded data removed]",
      "text/plain": [
       "<Figure size 432x288 with 1 Axes>"
      ]
     },
     "metadata": {
      "needs_background": "light"
     },
     "output_type": "display_data"
    }
   ],
   "source": [
    "# Scatter\n",
    "plt.scatter(fichero1.Atr1,fichero1.Atr2)\n",
    "plt.xlabel(\"Atr1\")\n",
    "plt.ylabel(\"Atr2\")\n",
    "plt.title(\"Proyección Atr1 y Atr2\")\n",
    "plt.show()"
   ]
  }
 ],
 "metadata": {
  "kernelspec": {
   "display_name": "Python 3 (ipykernel)",
   "language": "python",
   "name": "python3"
  },
  "language_info": {
   "codemirror_mode": {
    "name": "ipython",
    "version": 3
   },
   "file_extension": ".py",
   "mimetype": "text/x-python",
   "name": "python",
   "nbconvert_exporter": "python",
   "pygments_lexer": "ipython3",
   "version": "3.9.7"
  }
 },
 "nbformat": 4,
 "nbformat_minor": 5
}
